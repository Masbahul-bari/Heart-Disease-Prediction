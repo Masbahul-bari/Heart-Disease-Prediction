{
 "cells": [
  {
   "cell_type": "code",
   "execution_count": 1,
   "id": "d2652339",
   "metadata": {
    "_cell_guid": "b1076dfc-b9ad-4769-8c92-a6c4dae69d19",
    "_uuid": "8f2839f25d086af736a60e9eeb907d3b93b6e0e5",
    "execution": {
     "iopub.execute_input": "2023-04-23T18:11:33.784175Z",
     "iopub.status.busy": "2023-04-23T18:11:33.783796Z",
     "iopub.status.idle": "2023-04-23T18:11:34.925775Z",
     "shell.execute_reply": "2023-04-23T18:11:34.924224Z"
    },
    "papermill": {
     "duration": 1.154084,
     "end_time": "2023-04-23T18:11:34.928327",
     "exception": false,
     "start_time": "2023-04-23T18:11:33.774243",
     "status": "completed"
    },
    "tags": []
   },
   "outputs": [
    {
     "name": "stdout",
     "output_type": "stream",
     "text": [
      "/kaggle/input/heart-disease-cleveland/Heart_disease_cleveland_new.csv\n"
     ]
    }
   ],
   "source": [
    "# This Python 3 environment comes with many helpful analytics libraries installed\n",
    "# It is defined by the kaggle/python Docker image: https://github.com/kaggle/docker-python\n",
    "# For example, here's several helpful packages to load\n",
    "\n",
    "import numpy as np # linear algebra\n",
    "import pandas as pd # data processing, CSV file I/O (e.g. pd.read_csv)\n",
    "import seaborn as sns\n",
    "\n",
    "# Input data files are available in the read-only \"../input/\" directory\n",
    "# For example, running this (by clicking run or pressing Shift+Enter) will list all files under the input directory\n",
    "\n",
    "import os\n",
    "for dirname, _, filenames in os.walk('/kaggle/input'):\n",
    "    for filename in filenames:\n",
    "        print(os.path.join(dirname, filename))\n",
    "\n",
    "# You can write up to 20GB to the current directory (/kaggle/working/) that gets preserved as output when you create a version using \"Save & Run All\" \n",
    "# You can also write temporary files to /kaggle/temp/, but they won't be saved outside of the current session"
   ]
  },
  {
   "cell_type": "code",
   "execution_count": 2,
   "id": "0e6523e1",
   "metadata": {
    "execution": {
     "iopub.execute_input": "2023-04-23T18:11:34.944717Z",
     "iopub.status.busy": "2023-04-23T18:11:34.944292Z",
     "iopub.status.idle": "2023-04-23T18:11:34.949649Z",
     "shell.execute_reply": "2023-04-23T18:11:34.948340Z"
    },
    "papermill": {
     "duration": 0.015827,
     "end_time": "2023-04-23T18:11:34.951688",
     "exception": false,
     "start_time": "2023-04-23T18:11:34.935861",
     "status": "completed"
    },
    "tags": []
   },
   "outputs": [],
   "source": [
    "## Highest accuracy 86% Logistic Regression"
   ]
  },
  {
   "cell_type": "code",
   "execution_count": 3,
   "id": "166cddaa",
   "metadata": {
    "execution": {
     "iopub.execute_input": "2023-04-23T18:11:34.967346Z",
     "iopub.status.busy": "2023-04-23T18:11:34.966925Z",
     "iopub.status.idle": "2023-04-23T18:11:34.984789Z",
     "shell.execute_reply": "2023-04-23T18:11:34.983461Z"
    },
    "papermill": {
     "duration": 0.028892,
     "end_time": "2023-04-23T18:11:34.987794",
     "exception": false,
     "start_time": "2023-04-23T18:11:34.958902",
     "status": "completed"
    },
    "tags": []
   },
   "outputs": [],
   "source": [
    "df=pd.read_csv(\"/kaggle/input/heart-disease-cleveland/Heart_disease_cleveland_new.csv\")"
   ]
  },
  {
   "cell_type": "code",
   "execution_count": 4,
   "id": "32cba390",
   "metadata": {
    "execution": {
     "iopub.execute_input": "2023-04-23T18:11:35.003229Z",
     "iopub.status.busy": "2023-04-23T18:11:35.002846Z",
     "iopub.status.idle": "2023-04-23T18:11:35.032071Z",
     "shell.execute_reply": "2023-04-23T18:11:35.030671Z"
    },
    "papermill": {
     "duration": 0.039685,
     "end_time": "2023-04-23T18:11:35.034454",
     "exception": false,
     "start_time": "2023-04-23T18:11:34.994769",
     "status": "completed"
    },
    "tags": []
   },
   "outputs": [
    {
     "data": {
      "text/html": [
       "<div>\n",
       "<style scoped>\n",
       "    .dataframe tbody tr th:only-of-type {\n",
       "        vertical-align: middle;\n",
       "    }\n",
       "\n",
       "    .dataframe tbody tr th {\n",
       "        vertical-align: top;\n",
       "    }\n",
       "\n",
       "    .dataframe thead th {\n",
       "        text-align: right;\n",
       "    }\n",
       "</style>\n",
       "<table border=\"1\" class=\"dataframe\">\n",
       "  <thead>\n",
       "    <tr style=\"text-align: right;\">\n",
       "      <th></th>\n",
       "      <th>age</th>\n",
       "      <th>sex</th>\n",
       "      <th>cp</th>\n",
       "      <th>trestbps</th>\n",
       "      <th>chol</th>\n",
       "      <th>fbs</th>\n",
       "      <th>restecg</th>\n",
       "      <th>thalach</th>\n",
       "      <th>exang</th>\n",
       "      <th>oldpeak</th>\n",
       "      <th>slope</th>\n",
       "      <th>ca</th>\n",
       "      <th>thal</th>\n",
       "      <th>target</th>\n",
       "    </tr>\n",
       "  </thead>\n",
       "  <tbody>\n",
       "    <tr>\n",
       "      <th>0</th>\n",
       "      <td>63</td>\n",
       "      <td>1</td>\n",
       "      <td>0</td>\n",
       "      <td>145</td>\n",
       "      <td>233</td>\n",
       "      <td>1</td>\n",
       "      <td>2</td>\n",
       "      <td>150</td>\n",
       "      <td>0</td>\n",
       "      <td>2.3</td>\n",
       "      <td>2</td>\n",
       "      <td>0</td>\n",
       "      <td>2</td>\n",
       "      <td>0</td>\n",
       "    </tr>\n",
       "    <tr>\n",
       "      <th>1</th>\n",
       "      <td>67</td>\n",
       "      <td>1</td>\n",
       "      <td>3</td>\n",
       "      <td>160</td>\n",
       "      <td>286</td>\n",
       "      <td>0</td>\n",
       "      <td>2</td>\n",
       "      <td>108</td>\n",
       "      <td>1</td>\n",
       "      <td>1.5</td>\n",
       "      <td>1</td>\n",
       "      <td>3</td>\n",
       "      <td>1</td>\n",
       "      <td>1</td>\n",
       "    </tr>\n",
       "  </tbody>\n",
       "</table>\n",
       "</div>"
      ],
      "text/plain": [
       "   age  sex  cp  trestbps  chol  fbs  restecg  thalach  exang  oldpeak  slope  \\\n",
       "0   63    1   0       145   233    1        2      150      0      2.3      2   \n",
       "1   67    1   3       160   286    0        2      108      1      1.5      1   \n",
       "\n",
       "   ca  thal  target  \n",
       "0   0     2       0  \n",
       "1   3     1       1  "
      ]
     },
     "execution_count": 4,
     "metadata": {},
     "output_type": "execute_result"
    }
   ],
   "source": [
    "df.head(2)"
   ]
  },
  {
   "cell_type": "code",
   "execution_count": 5,
   "id": "25a3f218",
   "metadata": {
    "execution": {
     "iopub.execute_input": "2023-04-23T18:11:35.050536Z",
     "iopub.status.busy": "2023-04-23T18:11:35.050131Z",
     "iopub.status.idle": "2023-04-23T18:11:35.077109Z",
     "shell.execute_reply": "2023-04-23T18:11:35.075249Z"
    },
    "papermill": {
     "duration": 0.037321,
     "end_time": "2023-04-23T18:11:35.079185",
     "exception": false,
     "start_time": "2023-04-23T18:11:35.041864",
     "status": "completed"
    },
    "tags": []
   },
   "outputs": [
    {
     "name": "stdout",
     "output_type": "stream",
     "text": [
      "<class 'pandas.core.frame.DataFrame'>\n",
      "RangeIndex: 303 entries, 0 to 302\n",
      "Data columns (total 14 columns):\n",
      " #   Column    Non-Null Count  Dtype  \n",
      "---  ------    --------------  -----  \n",
      " 0   age       303 non-null    int64  \n",
      " 1   sex       303 non-null    int64  \n",
      " 2   cp        303 non-null    int64  \n",
      " 3   trestbps  303 non-null    int64  \n",
      " 4   chol      303 non-null    int64  \n",
      " 5   fbs       303 non-null    int64  \n",
      " 6   restecg   303 non-null    int64  \n",
      " 7   thalach   303 non-null    int64  \n",
      " 8   exang     303 non-null    int64  \n",
      " 9   oldpeak   303 non-null    float64\n",
      " 10  slope     303 non-null    int64  \n",
      " 11  ca        303 non-null    int64  \n",
      " 12  thal      303 non-null    int64  \n",
      " 13  target    303 non-null    int64  \n",
      "dtypes: float64(1), int64(13)\n",
      "memory usage: 33.3 KB\n"
     ]
    }
   ],
   "source": [
    "df.info()"
   ]
  },
  {
   "cell_type": "code",
   "execution_count": 6,
   "id": "d493a77a",
   "metadata": {
    "execution": {
     "iopub.execute_input": "2023-04-23T18:11:35.097798Z",
     "iopub.status.busy": "2023-04-23T18:11:35.096687Z",
     "iopub.status.idle": "2023-04-23T18:11:36.066412Z",
     "shell.execute_reply": "2023-04-23T18:11:36.065397Z"
    },
    "papermill": {
     "duration": 0.983268,
     "end_time": "2023-04-23T18:11:36.069668",
     "exception": false,
     "start_time": "2023-04-23T18:11:35.086400",
     "status": "completed"
    },
    "tags": []
   },
   "outputs": [
    {
     "data": {
      "image/png": "[encoded data removed]",
      "text/plain": [
       "<Figure size 640x480 with 2 Axes>"
      ]
     },
     "metadata": {},
     "output_type": "display_data"
    }
   ],
   "source": [
    "dataplot = sns.heatmap(df.corr(), cmap=\"YlGnBu\", annot=True)\n",
    "  \n",
    "# displaying heatmap\n"
   ]
  },
  {
   "cell_type": "code",
   "execution_count": 7,
   "id": "0e9cfa2d",
   "metadata": {
    "execution": {
     "iopub.execute_input": "2023-04-23T18:11:36.090512Z",
     "iopub.status.busy": "2023-04-23T18:11:36.089950Z",
     "iopub.status.idle": "2023-04-23T18:11:36.109713Z",
     "shell.execute_reply": "2023-04-23T18:11:36.108480Z"
    },
    "papermill": {
     "duration": 0.03266,
     "end_time": "2023-04-23T18:11:36.111689",
     "exception": false,
     "start_time": "2023-04-23T18:11:36.079029",
     "status": "completed"
    },
    "tags": []
   },
   "outputs": [
    {
     "data": {
      "text/html": [
       "<div>\n",
       "<style scoped>\n",
       "    .dataframe tbody tr th:only-of-type {\n",
       "        vertical-align: middle;\n",
       "    }\n",
       "\n",
       "    .dataframe tbody tr th {\n",
       "        vertical-align: top;\n",
       "    }\n",
       "\n",
       "    .dataframe thead th {\n",
       "        text-align: right;\n",
       "    }\n",
       "</style>\n",
       "<table border=\"1\" class=\"dataframe\">\n",
       "  <thead>\n",
       "    <tr style=\"text-align: right;\">\n",
       "      <th></th>\n",
       "      <th>age</th>\n",
       "      <th>sex</th>\n",
       "      <th>cp</th>\n",
       "      <th>trestbps</th>\n",
       "      <th>chol</th>\n",
       "      <th>fbs</th>\n",
       "      <th>restecg</th>\n",
       "      <th>thalach</th>\n",
       "      <th>exang</th>\n",
       "      <th>oldpeak</th>\n",
       "      <th>slope</th>\n",
       "      <th>ca</th>\n",
       "      <th>thal</th>\n",
       "    </tr>\n",
       "  </thead>\n",
       "  <tbody>\n",
       "    <tr>\n",
       "      <th>0</th>\n",
       "      <td>63</td>\n",
       "      <td>1</td>\n",
       "      <td>0</td>\n",
       "      <td>145</td>\n",
       "      <td>233</td>\n",
       "      <td>1</td>\n",
       "      <td>2</td>\n",
       "      <td>150</td>\n",
       "      <td>0</td>\n",
       "      <td>2.3</td>\n",
       "      <td>2</td>\n",
       "      <td>0</td>\n",
       "      <td>2</td>\n",
       "    </tr>\n",
       "    <tr>\n",
       "      <th>1</th>\n",
       "      <td>67</td>\n",
       "      <td>1</td>\n",
       "      <td>3</td>\n",
       "      <td>160</td>\n",
       "      <td>286</td>\n",
       "      <td>0</td>\n",
       "      <td>2</td>\n",
       "      <td>108</td>\n",
       "      <td>1</td>\n",
       "      <td>1.5</td>\n",
       "      <td>1</td>\n",
       "      <td>3</td>\n",
       "      <td>1</td>\n",
       "    </tr>\n",
       "    <tr>\n",
       "      <th>2</th>\n",
       "      <td>67</td>\n",
       "      <td>1</td>\n",
       "      <td>3</td>\n",
       "      <td>120</td>\n",
       "      <td>229</td>\n",
       "      <td>0</td>\n",
       "      <td>2</td>\n",
       "      <td>129</td>\n",
       "      <td>1</td>\n",
       "      <td>2.6</td>\n",
       "      <td>1</td>\n",
       "      <td>2</td>\n",
       "      <td>3</td>\n",
       "    </tr>\n",
       "    <tr>\n",
       "      <th>3</th>\n",
       "      <td>37</td>\n",
       "      <td>1</td>\n",
       "      <td>2</td>\n",
       "      <td>130</td>\n",
       "      <td>250</td>\n",
       "      <td>0</td>\n",
       "      <td>0</td>\n",
       "      <td>187</td>\n",
       "      <td>0</td>\n",
       "      <td>3.5</td>\n",
       "      <td>2</td>\n",
       "      <td>0</td>\n",
       "      <td>1</td>\n",
       "    </tr>\n",
       "    <tr>\n",
       "      <th>4</th>\n",
       "      <td>41</td>\n",
       "      <td>0</td>\n",
       "      <td>1</td>\n",
       "      <td>130</td>\n",
       "      <td>204</td>\n",
       "      <td>0</td>\n",
       "      <td>2</td>\n",
       "      <td>172</td>\n",
       "      <td>0</td>\n",
       "      <td>1.4</td>\n",
       "      <td>0</td>\n",
       "      <td>0</td>\n",
       "      <td>1</td>\n",
       "    </tr>\n",
       "    <tr>\n",
       "      <th>...</th>\n",
       "      <td>...</td>\n",
       "      <td>...</td>\n",
       "      <td>...</td>\n",
       "      <td>...</td>\n",
       "      <td>...</td>\n",
       "      <td>...</td>\n",
       "      <td>...</td>\n",
       "      <td>...</td>\n",
       "      <td>...</td>\n",
       "      <td>...</td>\n",
       "      <td>...</td>\n",
       "      <td>...</td>\n",
       "      <td>...</td>\n",
       "    </tr>\n",
       "    <tr>\n",
       "      <th>298</th>\n",
       "      <td>45</td>\n",
       "      <td>1</td>\n",
       "      <td>0</td>\n",
       "      <td>110</td>\n",
       "      <td>264</td>\n",
       "      <td>0</td>\n",
       "      <td>0</td>\n",
       "      <td>132</td>\n",
       "      <td>0</td>\n",
       "      <td>1.2</td>\n",
       "      <td>1</td>\n",
       "      <td>0</td>\n",
       "      <td>3</td>\n",
       "    </tr>\n",
       "    <tr>\n",
       "      <th>299</th>\n",
       "      <td>68</td>\n",
       "      <td>1</td>\n",
       "      <td>3</td>\n",
       "      <td>144</td>\n",
       "      <td>193</td>\n",
       "      <td>1</td>\n",
       "      <td>0</td>\n",
       "      <td>141</td>\n",
       "      <td>0</td>\n",
       "      <td>3.4</td>\n",
       "      <td>1</td>\n",
       "      <td>2</td>\n",
       "      <td>3</td>\n",
       "    </tr>\n",
       "    <tr>\n",
       "      <th>300</th>\n",
       "      <td>57</td>\n",
       "      <td>1</td>\n",
       "      <td>3</td>\n",
       "      <td>130</td>\n",
       "      <td>131</td>\n",
       "      <td>0</td>\n",
       "      <td>0</td>\n",
       "      <td>115</td>\n",
       "      <td>1</td>\n",
       "      <td>1.2</td>\n",
       "      <td>1</td>\n",
       "      <td>1</td>\n",
       "      <td>3</td>\n",
       "    </tr>\n",
       "    <tr>\n",
       "      <th>301</th>\n",
       "      <td>57</td>\n",
       "      <td>0</td>\n",
       "      <td>1</td>\n",
       "      <td>130</td>\n",
       "      <td>236</td>\n",
       "      <td>0</td>\n",
       "      <td>2</td>\n",
       "      <td>174</td>\n",
       "      <td>0</td>\n",
       "      <td>0.0</td>\n",
       "      <td>1</td>\n",
       "      <td>1</td>\n",
       "      <td>1</td>\n",
       "    </tr>\n",
       "    <tr>\n",
       "      <th>302</th>\n",
       "      <td>38</td>\n",
       "      <td>1</td>\n",
       "      <td>2</td>\n",
       "      <td>138</td>\n",
       "      <td>175</td>\n",
       "      <td>0</td>\n",
       "      <td>0</td>\n",
       "      <td>173</td>\n",
       "      <td>0</td>\n",
       "      <td>0.0</td>\n",
       "      <td>0</td>\n",
       "      <td>0</td>\n",
       "      <td>1</td>\n",
       "    </tr>\n",
       "  </tbody>\n",
       "</table>\n",
       "<p>303 rows × 13 columns</p>\n",
       "</div>"
      ],
      "text/plain": [
       "     age  sex  cp  trestbps  chol  fbs  restecg  thalach  exang  oldpeak  \\\n",
       "0     63    1   0       145   233    1        2      150      0      2.3   \n",
       "1     67    1   3       160   286    0        2      108      1      1.5   \n",
       "2     67    1   3       120   229    0        2      129      1      2.6   \n",
       "3     37    1   2       130   250    0        0      187      0      3.5   \n",
       "4     41    0   1       130   204    0        2      172      0      1.4   \n",
       "..   ...  ...  ..       ...   ...  ...      ...      ...    ...      ...   \n",
       "298   45    1   0       110   264    0        0      132      0      1.2   \n",
       "299   68    1   3       144   193    1        0      141      0      3.4   \n",
       "300   57    1   3       130   131    0        0      115      1      1.2   \n",
       "301   57    0   1       130   236    0        2      174      0      0.0   \n",
       "302   38    1   2       138   175    0        0      173      0      0.0   \n",
       "\n",
       "     slope  ca  thal  \n",
       "0        2   0     2  \n",
       "1        1   3     1  \n",
       "2        1   2     3  \n",
       "3        2   0     1  \n",
       "4        0   0     1  \n",
       "..     ...  ..   ...  \n",
       "298      1   0     3  \n",
       "299      1   2     3  \n",
       "300      1   1     3  \n",
       "301      1   1     1  \n",
       "302      0   0     1  \n",
       "\n",
       "[303 rows x 13 columns]"
      ]
     },
     "execution_count": 7,
     "metadata": {},
     "output_type": "execute_result"
    }
   ],
   "source": [
    "X=df.iloc[:,0:13]\n",
    "X"
   ]
  },
  {
   "cell_type": "code",
   "execution_count": 8,
   "id": "e0d44c6a",
   "metadata": {
    "execution": {
     "iopub.execute_input": "2023-04-23T18:11:36.135277Z",
     "iopub.status.busy": "2023-04-23T18:11:36.134578Z",
     "iopub.status.idle": "2023-04-23T18:11:36.139399Z",
     "shell.execute_reply": "2023-04-23T18:11:36.138063Z"
    },
    "papermill": {
     "duration": 0.019622,
     "end_time": "2023-04-23T18:11:36.141955",
     "exception": false,
     "start_time": "2023-04-23T18:11:36.122333",
     "status": "completed"
    },
    "tags": []
   },
   "outputs": [],
   "source": [
    "y=df['target']"
   ]
  },
  {
   "cell_type": "code",
   "execution_count": 9,
   "id": "d2a03d2d",
   "metadata": {
    "execution": {
     "iopub.execute_input": "2023-04-23T18:11:36.162905Z",
     "iopub.status.busy": "2023-04-23T18:11:36.162486Z",
     "iopub.status.idle": "2023-04-23T18:11:36.171813Z",
     "shell.execute_reply": "2023-04-23T18:11:36.170337Z"
    },
    "papermill": {
     "duration": 0.02301,
     "end_time": "2023-04-23T18:11:36.174418",
     "exception": false,
     "start_time": "2023-04-23T18:11:36.151408",
     "status": "completed"
    },
    "tags": []
   },
   "outputs": [
    {
     "data": {
      "text/plain": [
       "0    164\n",
       "1    139\n",
       "Name: target, dtype: int64"
      ]
     },
     "execution_count": 9,
     "metadata": {},
     "output_type": "execute_result"
    }
   ],
   "source": [
    "y.value_counts() ## Concludes data is not much unbalanced"
   ]
  },
  {
   "cell_type": "code",
   "execution_count": 10,
   "id": "1f9268fc",
   "metadata": {
    "execution": {
     "iopub.execute_input": "2023-04-23T18:11:36.194963Z",
     "iopub.status.busy": "2023-04-23T18:11:36.194619Z",
     "iopub.status.idle": "2023-04-23T18:11:36.205177Z",
     "shell.execute_reply": "2023-04-23T18:11:36.203793Z"
    },
    "papermill": {
     "duration": 0.023638,
     "end_time": "2023-04-23T18:11:36.207487",
     "exception": false,
     "start_time": "2023-04-23T18:11:36.183849",
     "status": "completed"
    },
    "tags": []
   },
   "outputs": [
    {
     "data": {
      "text/plain": [
       "age        -0.209060\n",
       "sex        -0.774935\n",
       "cp         -0.841754\n",
       "trestbps    0.706035\n",
       "chol        1.135503\n",
       "fbs         1.986652\n",
       "restecg     0.019900\n",
       "thalach    -0.537449\n",
       "exang       0.742532\n",
       "oldpeak     1.269720\n",
       "slope       0.508316\n",
       "ca          1.208791\n",
       "thal        0.342673\n",
       "target      0.166406\n",
       "dtype: float64"
      ]
     },
     "execution_count": 10,
     "metadata": {},
     "output_type": "execute_result"
    }
   ],
   "source": [
    "df.skew(axis = 0)"
   ]
  },
  {
   "cell_type": "code",
   "execution_count": 11,
   "id": "f69b2eaa",
   "metadata": {
    "execution": {
     "iopub.execute_input": "2023-04-23T18:11:36.228035Z",
     "iopub.status.busy": "2023-04-23T18:11:36.227670Z",
     "iopub.status.idle": "2023-04-23T18:11:36.443345Z",
     "shell.execute_reply": "2023-04-23T18:11:36.442299Z"
    },
    "papermill": {
     "duration": 0.228671,
     "end_time": "2023-04-23T18:11:36.445793",
     "exception": false,
     "start_time": "2023-04-23T18:11:36.217122",
     "status": "completed"
    },
    "tags": []
   },
   "outputs": [],
   "source": [
    "from sklearn.model_selection import train_test_split\n",
    "X_train, X_test, y_train, y_test = train_test_split(X, y, test_size=0.33, random_state=42)"
   ]
  },
  {
   "cell_type": "markdown",
   "id": "ea70d702",
   "metadata": {
    "papermill": {
     "duration": 0.010008,
     "end_time": "2023-04-23T18:11:36.465241",
     "exception": false,
     "start_time": "2023-04-23T18:11:36.455233",
     "status": "completed"
    },
    "tags": []
   },
   "source": [
    "## Logistic Regression"
   ]
  },
  {
   "cell_type": "code",
   "execution_count": 12,
   "id": "efadd5fb",
   "metadata": {
    "execution": {
     "iopub.execute_input": "2023-04-23T18:11:36.486945Z",
     "iopub.status.busy": "2023-04-23T18:11:36.486540Z",
     "iopub.status.idle": "2023-04-23T18:11:36.728110Z",
     "shell.execute_reply": "2023-04-23T18:11:36.726951Z"
    },
    "papermill": {
     "duration": 0.255367,
     "end_time": "2023-04-23T18:11:36.730352",
     "exception": false,
     "start_time": "2023-04-23T18:11:36.474985",
     "status": "completed"
    },
    "tags": []
   },
   "outputs": [
    {
     "data": {
      "text/plain": [
       "86.0"
      ]
     },
     "execution_count": 12,
     "metadata": {},
     "output_type": "execute_result"
    }
   ],
   "source": [
    "from sklearn.linear_model import LogisticRegression\n",
    "logModel=LogisticRegression(solver='lbfgs', max_iter=10000)\n",
    "logModel.fit(X_train, y_train)\n",
    "predictions = logModel.predict(X_test)\n",
    "from sklearn.metrics import accuracy_score\n",
    "accuracy_score(y_test,predictions)*100"
   ]
  },
  {
   "cell_type": "markdown",
   "id": "448dd171",
   "metadata": {
    "papermill": {
     "duration": 0.009102,
     "end_time": "2023-04-23T18:11:36.749380",
     "exception": false,
     "start_time": "2023-04-23T18:11:36.740278",
     "status": "completed"
    },
    "tags": []
   },
   "source": [
    "## LightGBM"
   ]
  },
  {
   "cell_type": "code",
   "execution_count": 13,
   "id": "e1283f07",
   "metadata": {
    "execution": {
     "iopub.execute_input": "2023-04-23T18:11:36.770235Z",
     "iopub.status.busy": "2023-04-23T18:11:36.769866Z",
     "iopub.status.idle": "2023-04-23T18:11:38.303007Z",
     "shell.execute_reply": "2023-04-23T18:11:38.301286Z"
    },
    "papermill": {
     "duration": 1.547022,
     "end_time": "2023-04-23T18:11:38.305836",
     "exception": false,
     "start_time": "2023-04-23T18:11:36.758814",
     "status": "completed"
    },
    "tags": []
   },
   "outputs": [
    {
     "data": {
      "text/html": [
       "<style type='text/css'>\n",
       ".datatable table.frame { margin-bottom: 0; }\n",
       ".datatable table.frame thead { border-bottom: none; }\n",
       ".datatable table.frame tr.coltypes td {  color: #FFFFFF;  line-height: 6px;  padding: 0 0.5em;}\n",
       ".datatable .bool    { background: #DDDD99; }\n",
       ".datatable .object  { background: #565656; }\n",
       ".datatable .int     { background: #5D9E5D; }\n",
       ".datatable .float   { background: #4040CC; }\n",
       ".datatable .str     { background: #CC4040; }\n",
       ".datatable .time    { background: #40CC40; }\n",
       ".datatable .row_index {  background: var(--jp-border-color3);  border-right: 1px solid var(--jp-border-color0);  color: var(--jp-ui-font-color3);  font-size: 9px;}\n",
       ".datatable .frame tbody td { text-align: left; }\n",
       ".datatable .frame tr.coltypes .row_index {  background: var(--jp-border-color0);}\n",
       ".datatable th:nth-child(2) { padding-left: 12px; }\n",
       ".datatable .hellipsis {  color: var(--jp-cell-editor-border-color);}\n",
       ".datatable .vellipsis {  background: var(--jp-layout-color0);  color: var(--jp-cell-editor-border-color);}\n",
       ".datatable .na {  color: var(--jp-cell-editor-border-color);  font-size: 80%;}\n",
       ".datatable .sp {  opacity: 0.25;}\n",
       ".datatable .footer { font-size: 9px; }\n",
       ".datatable .frame_dimensions {  background: var(--jp-border-color3);  border-top: 1px solid var(--jp-border-color0);  color: var(--jp-ui-font-color3);  display: inline-block;  opacity: 0.6;  padding: 1px 10px 1px 5px;}\n",
       "</style>\n"
      ],
      "text/plain": [
       "<IPython.core.display.HTML object>"
      ]
     },
     "metadata": {},
     "output_type": "display_data"
    },
    {
     "name": "stdout",
     "output_type": "stream",
     "text": [
      "LightGBM Model accuracy score: 82.0000\n"
     ]
    }
   ],
   "source": [
    "import lightgbm as lgb\n",
    "clf = lgb.LGBMClassifier()\n",
    "clf.fit(X_train, y_train)\n",
    "y_pred=clf.predict(X_test)\n",
    "accuracy=accuracy_score(y_pred, y_test)\n",
    "print('LightGBM Model accuracy score: {0:0.4f}'.format(accuracy_score(y_test, y_pred)*100))"
   ]
  },
  {
   "cell_type": "markdown",
   "id": "2417cfd8",
   "metadata": {
    "papermill": {
     "duration": 0.009356,
     "end_time": "2023-04-23T18:11:38.325499",
     "exception": false,
     "start_time": "2023-04-23T18:11:38.316143",
     "status": "completed"
    },
    "tags": []
   },
   "source": [
    "## Random Forest"
   ]
  },
  {
   "cell_type": "code",
   "execution_count": 14,
   "id": "9a40e2ab",
   "metadata": {
    "execution": {
     "iopub.execute_input": "2023-04-23T18:11:38.347023Z",
     "iopub.status.busy": "2023-04-23T18:11:38.346633Z",
     "iopub.status.idle": "2023-04-23T18:11:38.758944Z",
     "shell.execute_reply": "2023-04-23T18:11:38.757637Z"
    },
    "papermill": {
     "duration": 0.426204,
     "end_time": "2023-04-23T18:11:38.761459",
     "exception": false,
     "start_time": "2023-04-23T18:11:38.335255",
     "status": "completed"
    },
    "tags": []
   },
   "outputs": [
    {
     "name": "stdout",
     "output_type": "stream",
     "text": [
      "\n",
      "82.0\n"
     ]
    }
   ],
   "source": [
    "from sklearn.ensemble import RandomForestClassifier\n",
    "clf = RandomForestClassifier(n_estimators = 100) \n",
    " \n",
    "# Training the model on the training dataset\n",
    "# fit function is used to train the model using the training sets as parameters\n",
    "clf.fit(X_train, y_train)\n",
    " \n",
    "# performing predictions on the test dataset\n",
    "y_pred8 = clf.predict(X_test)\n",
    " # metrics are used to find accuracy or error\n",
    "from sklearn import metrics \n",
    "print()\n",
    " \n",
    "# using metrics module for accuracy calculation\n",
    "print( metrics.accuracy_score(y_test, y_pred8)*100)"
   ]
  },
  {
   "cell_type": "markdown",
   "id": "abf74a4d",
   "metadata": {
    "papermill": {
     "duration": 0.009559,
     "end_time": "2023-04-23T18:11:38.781408",
     "exception": false,
     "start_time": "2023-04-23T18:11:38.771849",
     "status": "completed"
    },
    "tags": []
   },
   "source": [
    "## Extratree Classifier"
   ]
  },
  {
   "cell_type": "code",
   "execution_count": 15,
   "id": "6b6dd3c9",
   "metadata": {
    "execution": {
     "iopub.execute_input": "2023-04-23T18:11:38.803400Z",
     "iopub.status.busy": "2023-04-23T18:11:38.803033Z",
     "iopub.status.idle": "2023-04-23T18:11:38.926832Z",
     "shell.execute_reply": "2023-04-23T18:11:38.925233Z"
    },
    "papermill": {
     "duration": 0.138106,
     "end_time": "2023-04-23T18:11:38.929532",
     "exception": false,
     "start_time": "2023-04-23T18:11:38.791426",
     "status": "completed"
    },
    "tags": []
   },
   "outputs": [
    {
     "name": "stdout",
     "output_type": "stream",
     "text": [
      "86.0\n"
     ]
    }
   ],
   "source": [
    "from sklearn.ensemble import ExtraTreesClassifier\n",
    "clf = ExtraTreesClassifier(n_estimators=100,max_depth=6,min_samples_split=2,min_weight_fraction_leaf =0.0,n_jobs=-1)\n",
    "clf.fit(X_train, y_train)\n",
    "print(clf.score(X_test, y_test)*100)\n",
    "y_pred9 = clf.predict(X_test)"
   ]
  },
  {
   "cell_type": "markdown",
   "id": "d23f1031",
   "metadata": {
    "papermill": {
     "duration": 0.010524,
     "end_time": "2023-04-23T18:11:38.950062",
     "exception": false,
     "start_time": "2023-04-23T18:11:38.939538",
     "status": "completed"
    },
    "tags": []
   },
   "source": [
    "## Xgboost"
   ]
  },
  {
   "cell_type": "code",
   "execution_count": 16,
   "id": "77370a9a",
   "metadata": {
    "execution": {
     "iopub.execute_input": "2023-04-23T18:11:38.972761Z",
     "iopub.status.busy": "2023-04-23T18:11:38.972121Z",
     "iopub.status.idle": "2023-04-23T18:11:39.248316Z",
     "shell.execute_reply": "2023-04-23T18:11:39.246913Z"
    },
    "papermill": {
     "duration": 0.290052,
     "end_time": "2023-04-23T18:11:39.250401",
     "exception": false,
     "start_time": "2023-04-23T18:11:38.960349",
     "status": "completed"
    },
    "tags": []
   },
   "outputs": [
    {
     "name": "stdout",
     "output_type": "stream",
     "text": [
      "80.0\n"
     ]
    }
   ],
   "source": [
    "from xgboost import XGBClassifier\n",
    "from sklearn.metrics import accuracy_score\n",
    "model = XGBClassifier(eval_metric='mlogloss')\n",
    "model.fit(X_train, y_train)\n",
    "y_pred1 = model.predict(X_test)\n",
    "accuracy = accuracy_score(y_test, y_pred1)\n",
    "print(accuracy*100)"
   ]
  },
  {
   "cell_type": "markdown",
   "id": "a4194fa9",
   "metadata": {
    "papermill": {
     "duration": 0.009503,
     "end_time": "2023-04-23T18:11:39.269746",
     "exception": false,
     "start_time": "2023-04-23T18:11:39.260243",
     "status": "completed"
    },
    "tags": []
   },
   "source": [
    "## ANN"
   ]
  },
  {
   "cell_type": "code",
   "execution_count": 17,
   "id": "f94743a9",
   "metadata": {
    "execution": {
     "iopub.execute_input": "2023-04-23T18:11:39.291401Z",
     "iopub.status.busy": "2023-04-23T18:11:39.291045Z",
     "iopub.status.idle": "2023-04-23T18:11:48.363393Z",
     "shell.execute_reply": "2023-04-23T18:11:48.361669Z"
    },
    "papermill": {
     "duration": 9.086915,
     "end_time": "2023-04-23T18:11:48.366621",
     "exception": false,
     "start_time": "2023-04-23T18:11:39.279706",
     "status": "completed"
    },
    "tags": []
   },
   "outputs": [],
   "source": [
    "from tensorflow.keras.models import Sequential #Helps to create Forward and backward propogation\n",
    "from tensorflow.keras.layers import Dense #Helps to create neurons in ANN\n",
    "from tensorflow.keras.layers import LeakyReLU,PReLU,ELU #activation functions"
   ]
  },
  {
   "cell_type": "code",
   "execution_count": 18,
   "id": "c2deabcd",
   "metadata": {
    "execution": {
     "iopub.execute_input": "2023-04-23T18:11:48.389153Z",
     "iopub.status.busy": "2023-04-23T18:11:48.388323Z",
     "iopub.status.idle": "2023-04-23T18:11:48.485391Z",
     "shell.execute_reply": "2023-04-23T18:11:48.484301Z"
    },
    "papermill": {
     "duration": 0.111076,
     "end_time": "2023-04-23T18:11:48.487886",
     "exception": false,
     "start_time": "2023-04-23T18:11:48.376810",
     "status": "completed"
    },
    "tags": []
   },
   "outputs": [],
   "source": [
    "\n",
    "classifier=Sequential()"
   ]
  },
  {
   "cell_type": "code",
   "execution_count": 19,
   "id": "98a40167",
   "metadata": {
    "execution": {
     "iopub.execute_input": "2023-04-23T18:11:48.509861Z",
     "iopub.status.busy": "2023-04-23T18:11:48.509494Z",
     "iopub.status.idle": "2023-04-23T18:11:48.522653Z",
     "shell.execute_reply": "2023-04-23T18:11:48.521518Z"
    },
    "papermill": {
     "duration": 0.026821,
     "end_time": "2023-04-23T18:11:48.524832",
     "exception": false,
     "start_time": "2023-04-23T18:11:48.498011",
     "status": "completed"
    },
    "tags": []
   },
   "outputs": [],
   "source": [
    "classifier.add(Dense(units=11,activation='relu'))"
   ]
  },
  {
   "cell_type": "code",
   "execution_count": 20,
   "id": "dbaaedb0",
   "metadata": {
    "execution": {
     "iopub.execute_input": "2023-04-23T18:11:48.546700Z",
     "iopub.status.busy": "2023-04-23T18:11:48.546303Z",
     "iopub.status.idle": "2023-04-23T18:11:48.553163Z",
     "shell.execute_reply": "2023-04-23T18:11:48.551966Z"
    },
    "papermill": {
     "duration": 0.020369,
     "end_time": "2023-04-23T18:11:48.555245",
     "exception": false,
     "start_time": "2023-04-23T18:11:48.534876",
     "status": "completed"
    },
    "tags": []
   },
   "outputs": [],
   "source": [
    "classifier.add(Dense(units=7,activation='relu'))"
   ]
  },
  {
   "cell_type": "code",
   "execution_count": 21,
   "id": "2cfad122",
   "metadata": {
    "execution": {
     "iopub.execute_input": "2023-04-23T18:11:48.576629Z",
     "iopub.status.busy": "2023-04-23T18:11:48.576249Z",
     "iopub.status.idle": "2023-04-23T18:11:48.584095Z",
     "shell.execute_reply": "2023-04-23T18:11:48.582932Z"
    },
    "papermill": {
     "duration": 0.021235,
     "end_time": "2023-04-23T18:11:48.586507",
     "exception": false,
     "start_time": "2023-04-23T18:11:48.565272",
     "status": "completed"
    },
    "tags": []
   },
   "outputs": [],
   "source": [
    "classifier.add(Dense(units=6,activation='relu'))\n"
   ]
  },
  {
   "cell_type": "code",
   "execution_count": 22,
   "id": "0c329c94",
   "metadata": {
    "execution": {
     "iopub.execute_input": "2023-04-23T18:11:48.608696Z",
     "iopub.status.busy": "2023-04-23T18:11:48.608295Z",
     "iopub.status.idle": "2023-04-23T18:11:48.614393Z",
     "shell.execute_reply": "2023-04-23T18:11:48.613358Z"
    },
    "papermill": {
     "duration": 0.019442,
     "end_time": "2023-04-23T18:11:48.616427",
     "exception": false,
     "start_time": "2023-04-23T18:11:48.596985",
     "status": "completed"
    },
    "tags": []
   },
   "outputs": [],
   "source": [
    "## Adding the output layer\n",
    "classifier.add(Dense(units=1,activation='sigmoid'))"
   ]
  },
  {
   "cell_type": "code",
   "execution_count": 23,
   "id": "39d81a1b",
   "metadata": {
    "execution": {
     "iopub.execute_input": "2023-04-23T18:11:48.637572Z",
     "iopub.status.busy": "2023-04-23T18:11:48.637220Z",
     "iopub.status.idle": "2023-04-23T18:11:48.668974Z",
     "shell.execute_reply": "2023-04-23T18:11:48.667628Z"
    },
    "papermill": {
     "duration": 0.045383,
     "end_time": "2023-04-23T18:11:48.671611",
     "exception": false,
     "start_time": "2023-04-23T18:11:48.626228",
     "status": "completed"
    },
    "tags": []
   },
   "outputs": [],
   "source": [
    "classifier.compile(optimizer='adam',loss=\"binary_crossentropy\",metrics=[\"accuracy\"])\n",
    "#classifier.compile(optimizer=opt,loss=\"binary_crossentropy\",metrics=[\"accuracy\"])"
   ]
  },
  {
   "cell_type": "code",
   "execution_count": 24,
   "id": "85f73152",
   "metadata": {
    "execution": {
     "iopub.execute_input": "2023-04-23T18:11:48.693240Z",
     "iopub.status.busy": "2023-04-23T18:11:48.692904Z",
     "iopub.status.idle": "2023-04-23T18:11:48.700457Z",
     "shell.execute_reply": "2023-04-23T18:11:48.699090Z"
    },
    "papermill": {
     "duration": 0.021368,
     "end_time": "2023-04-23T18:11:48.703047",
     "exception": false,
     "start_time": "2023-04-23T18:11:48.681679",
     "status": "completed"
    },
    "tags": []
   },
   "outputs": [],
   "source": [
    "import tensorflow as tf\n",
    "early_stopping=tf.keras.callbacks.EarlyStopping(\n",
    "    monitor=\"val_loss\",\n",
    "    min_delta=0.0001,\n",
    "    patience=20,\n",
    "    verbose=1,\n",
    "    mode=\"auto\",\n",
    "    baseline=None,\n",
    "    restore_best_weights=False,\n",
    ")\n"
   ]
  },
  {
   "cell_type": "code",
   "execution_count": 25,
   "id": "9891490e",
   "metadata": {
    "execution": {
     "iopub.execute_input": "2023-04-23T18:11:48.726513Z",
     "iopub.status.busy": "2023-04-23T18:11:48.726169Z",
     "iopub.status.idle": "2023-04-23T18:11:58.578361Z",
     "shell.execute_reply": "2023-04-23T18:11:58.577219Z"
    },
    "papermill": {
     "duration": 9.867009,
     "end_time": "2023-04-23T18:11:58.580903",
     "exception": false,
     "start_time": "2023-04-23T18:11:48.713894",
     "status": "completed"
    },
    "tags": []
   },
   "outputs": [
    {
     "name": "stdout",
     "output_type": "stream",
     "text": [
      "Epoch 1/1000\n",
      "14/14 [==============================] - 1s 22ms/step - loss: 2.4924 - accuracy: 0.4485 - val_loss: 1.4435 - val_accuracy: 0.4328\n",
      "Epoch 2/1000\n",
      "14/14 [==============================] - 0s 5ms/step - loss: 0.8932 - accuracy: 0.5735 - val_loss: 1.0175 - val_accuracy: 0.5373\n",
      "Epoch 3/1000\n",
      "14/14 [==============================] - 0s 5ms/step - loss: 0.7089 - accuracy: 0.5735 - val_loss: 0.8153 - val_accuracy: 0.5224\n",
      "Epoch 4/1000\n",
      "14/14 [==============================] - 0s 5ms/step - loss: 0.6755 - accuracy: 0.5809 - val_loss: 0.7687 - val_accuracy: 0.5373\n",
      "Epoch 5/1000\n",
      "14/14 [==============================] - 0s 5ms/step - loss: 0.6604 - accuracy: 0.5662 - val_loss: 0.7592 - val_accuracy: 0.5373\n",
      "Epoch 6/1000\n",
      "14/14 [==============================] - 0s 5ms/step - loss: 0.6642 - accuracy: 0.5882 - val_loss: 0.7648 - val_accuracy: 0.5373\n",
      "Epoch 7/1000\n",
      "14/14 [==============================] - 0s 5ms/step - loss: 0.6465 - accuracy: 0.5882 - val_loss: 0.7766 - val_accuracy: 0.5522\n",
      "Epoch 8/1000\n",
      "14/14 [==============================] - 0s 4ms/step - loss: 0.6429 - accuracy: 0.5809 - val_loss: 0.7678 - val_accuracy: 0.5224\n",
      "Epoch 9/1000\n",
      "14/14 [==============================] - 0s 4ms/step - loss: 0.6408 - accuracy: 0.5956 - val_loss: 0.7546 - val_accuracy: 0.5373\n",
      "Epoch 10/1000\n",
      "14/14 [==============================] - 0s 5ms/step - loss: 0.6359 - accuracy: 0.6029 - val_loss: 0.7530 - val_accuracy: 0.5373\n",
      "Epoch 11/1000\n",
      "14/14 [==============================] - 0s 5ms/step - loss: 0.6335 - accuracy: 0.6029 - val_loss: 0.7424 - val_accuracy: 0.5672\n",
      "Epoch 12/1000\n",
      "14/14 [==============================] - 0s 5ms/step - loss: 0.6284 - accuracy: 0.6029 - val_loss: 0.7265 - val_accuracy: 0.5522\n",
      "Epoch 13/1000\n",
      "14/14 [==============================] - 0s 5ms/step - loss: 0.6123 - accuracy: 0.6544 - val_loss: 0.7359 - val_accuracy: 0.5522\n",
      "Epoch 14/1000\n",
      "14/14 [==============================] - 0s 5ms/step - loss: 0.6170 - accuracy: 0.6544 - val_loss: 0.7299 - val_accuracy: 0.5672\n",
      "Epoch 15/1000\n",
      "14/14 [==============================] - 0s 5ms/step - loss: 0.6085 - accuracy: 0.6691 - val_loss: 0.6995 - val_accuracy: 0.5970\n",
      "Epoch 16/1000\n",
      "14/14 [==============================] - 0s 5ms/step - loss: 0.6056 - accuracy: 0.6985 - val_loss: 0.7003 - val_accuracy: 0.5821\n",
      "Epoch 17/1000\n",
      "14/14 [==============================] - 0s 5ms/step - loss: 0.5968 - accuracy: 0.6618 - val_loss: 0.7106 - val_accuracy: 0.5970\n",
      "Epoch 18/1000\n",
      "14/14 [==============================] - 0s 4ms/step - loss: 0.6046 - accuracy: 0.6618 - val_loss: 0.7140 - val_accuracy: 0.5821\n",
      "Epoch 19/1000\n",
      "14/14 [==============================] - 0s 4ms/step - loss: 0.6080 - accuracy: 0.6471 - val_loss: 0.6809 - val_accuracy: 0.6418\n",
      "Epoch 20/1000\n",
      "14/14 [==============================] - 0s 4ms/step - loss: 0.5891 - accuracy: 0.6691 - val_loss: 0.6744 - val_accuracy: 0.6269\n",
      "Epoch 21/1000\n",
      "14/14 [==============================] - 0s 4ms/step - loss: 0.6037 - accuracy: 0.6471 - val_loss: 0.6663 - val_accuracy: 0.6269\n",
      "Epoch 22/1000\n",
      "14/14 [==============================] - 0s 5ms/step - loss: 0.5917 - accuracy: 0.6985 - val_loss: 0.6830 - val_accuracy: 0.6567\n",
      "Epoch 23/1000\n",
      "14/14 [==============================] - 0s 5ms/step - loss: 0.6155 - accuracy: 0.6250 - val_loss: 0.7115 - val_accuracy: 0.6418\n",
      "Epoch 24/1000\n",
      "14/14 [==============================] - 0s 4ms/step - loss: 0.6259 - accuracy: 0.6838 - val_loss: 0.6774 - val_accuracy: 0.6567\n",
      "Epoch 25/1000\n",
      "14/14 [==============================] - 0s 5ms/step - loss: 0.6048 - accuracy: 0.6397 - val_loss: 0.6916 - val_accuracy: 0.6567\n",
      "Epoch 26/1000\n",
      "14/14 [==============================] - 0s 5ms/step - loss: 0.5867 - accuracy: 0.6471 - val_loss: 0.6758 - val_accuracy: 0.6567\n",
      "Epoch 27/1000\n",
      "14/14 [==============================] - 0s 4ms/step - loss: 0.5864 - accuracy: 0.6691 - val_loss: 0.6520 - val_accuracy: 0.6866\n",
      "Epoch 28/1000\n",
      "14/14 [==============================] - 0s 5ms/step - loss: 0.5731 - accuracy: 0.7279 - val_loss: 0.6592 - val_accuracy: 0.6418\n",
      "Epoch 29/1000\n",
      "14/14 [==============================] - 0s 4ms/step - loss: 0.5689 - accuracy: 0.6691 - val_loss: 0.6495 - val_accuracy: 0.6866\n",
      "Epoch 30/1000\n",
      "14/14 [==============================] - 0s 5ms/step - loss: 0.5816 - accuracy: 0.7206 - val_loss: 0.6566 - val_accuracy: 0.6716\n",
      "Epoch 31/1000\n",
      "14/14 [==============================] - 0s 5ms/step - loss: 0.5873 - accuracy: 0.6765 - val_loss: 0.6704 - val_accuracy: 0.6119\n",
      "Epoch 32/1000\n",
      "14/14 [==============================] - 0s 5ms/step - loss: 0.5856 - accuracy: 0.7132 - val_loss: 0.6361 - val_accuracy: 0.7015\n",
      "Epoch 33/1000\n",
      "14/14 [==============================] - 0s 4ms/step - loss: 0.5631 - accuracy: 0.6838 - val_loss: 0.6335 - val_accuracy: 0.6716\n",
      "Epoch 34/1000\n",
      "14/14 [==============================] - 0s 5ms/step - loss: 0.5591 - accuracy: 0.7353 - val_loss: 0.6351 - val_accuracy: 0.6866\n",
      "Epoch 35/1000\n",
      "14/14 [==============================] - 0s 5ms/step - loss: 0.5584 - accuracy: 0.6985 - val_loss: 0.6192 - val_accuracy: 0.7164\n",
      "Epoch 36/1000\n",
      "14/14 [==============================] - 0s 4ms/step - loss: 0.5607 - accuracy: 0.7426 - val_loss: 0.6352 - val_accuracy: 0.6866\n",
      "Epoch 37/1000\n",
      "14/14 [==============================] - 0s 5ms/step - loss: 0.5570 - accuracy: 0.7132 - val_loss: 0.6282 - val_accuracy: 0.6866\n",
      "Epoch 38/1000\n",
      "14/14 [==============================] - 0s 5ms/step - loss: 0.5574 - accuracy: 0.7059 - val_loss: 0.6427 - val_accuracy: 0.6418\n",
      "Epoch 39/1000\n",
      "14/14 [==============================] - 0s 5ms/step - loss: 0.5546 - accuracy: 0.7500 - val_loss: 0.6383 - val_accuracy: 0.6866\n",
      "Epoch 40/1000\n",
      "14/14 [==============================] - 0s 5ms/step - loss: 0.5585 - accuracy: 0.6912 - val_loss: 0.6384 - val_accuracy: 0.7015\n",
      "Epoch 41/1000\n",
      "14/14 [==============================] - 0s 4ms/step - loss: 0.5492 - accuracy: 0.7353 - val_loss: 0.6349 - val_accuracy: 0.6866\n",
      "Epoch 42/1000\n",
      "14/14 [==============================] - 0s 4ms/step - loss: 0.5544 - accuracy: 0.7132 - val_loss: 0.6242 - val_accuracy: 0.7164\n",
      "Epoch 43/1000\n",
      "14/14 [==============================] - 0s 4ms/step - loss: 0.5494 - accuracy: 0.7647 - val_loss: 0.6344 - val_accuracy: 0.7015\n",
      "Epoch 44/1000\n",
      "14/14 [==============================] - 0s 5ms/step - loss: 0.5494 - accuracy: 0.6985 - val_loss: 0.6010 - val_accuracy: 0.7164\n",
      "Epoch 45/1000\n",
      "14/14 [==============================] - 0s 4ms/step - loss: 0.5420 - accuracy: 0.7206 - val_loss: 0.6204 - val_accuracy: 0.7015\n",
      "Epoch 46/1000\n",
      "14/14 [==============================] - 0s 4ms/step - loss: 0.5485 - accuracy: 0.7721 - val_loss: 0.6371 - val_accuracy: 0.7164\n",
      "Epoch 47/1000\n",
      "14/14 [==============================] - 0s 4ms/step - loss: 0.5544 - accuracy: 0.7426 - val_loss: 0.6513 - val_accuracy: 0.7015\n",
      "Epoch 48/1000\n",
      "14/14 [==============================] - 0s 4ms/step - loss: 0.5437 - accuracy: 0.7132 - val_loss: 0.5854 - val_accuracy: 0.7313\n",
      "Epoch 49/1000\n",
      "14/14 [==============================] - 0s 5ms/step - loss: 0.5421 - accuracy: 0.7574 - val_loss: 0.5938 - val_accuracy: 0.7463\n",
      "Epoch 50/1000\n",
      "14/14 [==============================] - 0s 5ms/step - loss: 0.5374 - accuracy: 0.7206 - val_loss: 0.6236 - val_accuracy: 0.7463\n",
      "Epoch 51/1000\n",
      "14/14 [==============================] - 0s 4ms/step - loss: 0.5346 - accuracy: 0.7426 - val_loss: 0.6294 - val_accuracy: 0.7015\n",
      "Epoch 52/1000\n",
      "14/14 [==============================] - 0s 5ms/step - loss: 0.5631 - accuracy: 0.7279 - val_loss: 0.6404 - val_accuracy: 0.6269\n",
      "Epoch 53/1000\n",
      "14/14 [==============================] - 0s 4ms/step - loss: 0.5356 - accuracy: 0.7500 - val_loss: 0.5947 - val_accuracy: 0.7463\n",
      "Epoch 54/1000\n",
      "14/14 [==============================] - 0s 4ms/step - loss: 0.5342 - accuracy: 0.7206 - val_loss: 0.6117 - val_accuracy: 0.7015\n",
      "Epoch 55/1000\n",
      "14/14 [==============================] - 0s 5ms/step - loss: 0.5550 - accuracy: 0.7353 - val_loss: 0.6289 - val_accuracy: 0.7015\n",
      "Epoch 56/1000\n",
      "14/14 [==============================] - 0s 4ms/step - loss: 0.5515 - accuracy: 0.7279 - val_loss: 0.6066 - val_accuracy: 0.7463\n",
      "Epoch 57/1000\n",
      "14/14 [==============================] - 0s 5ms/step - loss: 0.5590 - accuracy: 0.7059 - val_loss: 0.5973 - val_accuracy: 0.7015\n",
      "Epoch 58/1000\n",
      "14/14 [==============================] - 0s 4ms/step - loss: 0.5271 - accuracy: 0.7132 - val_loss: 0.6075 - val_accuracy: 0.7463\n",
      "Epoch 59/1000\n",
      "14/14 [==============================] - 0s 5ms/step - loss: 0.5186 - accuracy: 0.7574 - val_loss: 0.6183 - val_accuracy: 0.7015\n",
      "Epoch 60/1000\n",
      "14/14 [==============================] - 0s 5ms/step - loss: 0.5266 - accuracy: 0.7500 - val_loss: 0.5905 - val_accuracy: 0.7463\n",
      "Epoch 61/1000\n",
      "14/14 [==============================] - 0s 5ms/step - loss: 0.5192 - accuracy: 0.7132 - val_loss: 0.5952 - val_accuracy: 0.7015\n",
      "Epoch 62/1000\n",
      "14/14 [==============================] - 0s 5ms/step - loss: 0.5229 - accuracy: 0.7721 - val_loss: 0.5982 - val_accuracy: 0.7612\n",
      "Epoch 63/1000\n",
      "14/14 [==============================] - 0s 5ms/step - loss: 0.5350 - accuracy: 0.6985 - val_loss: 0.5923 - val_accuracy: 0.7015\n",
      "Epoch 64/1000\n",
      "14/14 [==============================] - 0s 5ms/step - loss: 0.5284 - accuracy: 0.7647 - val_loss: 0.6216 - val_accuracy: 0.7761\n",
      "Epoch 65/1000\n",
      "14/14 [==============================] - 0s 5ms/step - loss: 0.5243 - accuracy: 0.7279 - val_loss: 0.5980 - val_accuracy: 0.7164\n",
      "Epoch 66/1000\n",
      "14/14 [==============================] - 0s 5ms/step - loss: 0.5109 - accuracy: 0.7426 - val_loss: 0.5851 - val_accuracy: 0.7463\n",
      "Epoch 67/1000\n",
      "14/14 [==============================] - 0s 5ms/step - loss: 0.5125 - accuracy: 0.7206 - val_loss: 0.6120 - val_accuracy: 0.7015\n",
      "Epoch 68/1000\n",
      "14/14 [==============================] - 0s 4ms/step - loss: 0.5327 - accuracy: 0.7426 - val_loss: 0.6202 - val_accuracy: 0.7910\n",
      "Epoch 69/1000\n",
      "14/14 [==============================] - 0s 5ms/step - loss: 0.5045 - accuracy: 0.7353 - val_loss: 0.5884 - val_accuracy: 0.7015\n",
      "Epoch 70/1000\n",
      "14/14 [==============================] - 0s 5ms/step - loss: 0.5058 - accuracy: 0.7574 - val_loss: 0.6022 - val_accuracy: 0.7612\n",
      "Epoch 71/1000\n",
      "14/14 [==============================] - 0s 5ms/step - loss: 0.5102 - accuracy: 0.7059 - val_loss: 0.6023 - val_accuracy: 0.7612\n",
      "Epoch 72/1000\n",
      "14/14 [==============================] - 0s 5ms/step - loss: 0.5132 - accuracy: 0.7794 - val_loss: 0.5727 - val_accuracy: 0.7612\n",
      "Epoch 73/1000\n",
      "14/14 [==============================] - 0s 5ms/step - loss: 0.5126 - accuracy: 0.7721 - val_loss: 0.6161 - val_accuracy: 0.7612\n",
      "Epoch 74/1000\n",
      "14/14 [==============================] - 0s 5ms/step - loss: 0.5217 - accuracy: 0.7206 - val_loss: 0.5872 - val_accuracy: 0.6866\n",
      "Epoch 75/1000\n",
      "14/14 [==============================] - 0s 5ms/step - loss: 0.5043 - accuracy: 0.7206 - val_loss: 0.5915 - val_accuracy: 0.7463\n",
      "Epoch 76/1000\n",
      "14/14 [==============================] - 0s 5ms/step - loss: 0.5041 - accuracy: 0.7353 - val_loss: 0.6106 - val_accuracy: 0.7463\n",
      "Epoch 77/1000\n",
      "14/14 [==============================] - 0s 5ms/step - loss: 0.4937 - accuracy: 0.7721 - val_loss: 0.5648 - val_accuracy: 0.7164\n",
      "Epoch 78/1000\n",
      "14/14 [==============================] - 0s 4ms/step - loss: 0.4953 - accuracy: 0.7279 - val_loss: 0.5863 - val_accuracy: 0.7612\n",
      "Epoch 79/1000\n",
      "14/14 [==============================] - 0s 5ms/step - loss: 0.4906 - accuracy: 0.7426 - val_loss: 0.5830 - val_accuracy: 0.7015\n",
      "Epoch 80/1000\n",
      "14/14 [==============================] - 0s 4ms/step - loss: 0.5012 - accuracy: 0.7206 - val_loss: 0.5939 - val_accuracy: 0.7015\n",
      "Epoch 81/1000\n",
      "14/14 [==============================] - 0s 5ms/step - loss: 0.4963 - accuracy: 0.7500 - val_loss: 0.5867 - val_accuracy: 0.7164\n",
      "Epoch 82/1000\n",
      "14/14 [==============================] - 0s 5ms/step - loss: 0.5016 - accuracy: 0.7574 - val_loss: 0.5825 - val_accuracy: 0.7910\n",
      "Epoch 83/1000\n",
      "14/14 [==============================] - 0s 5ms/step - loss: 0.5237 - accuracy: 0.7353 - val_loss: 0.6233 - val_accuracy: 0.7910\n",
      "Epoch 84/1000\n",
      "14/14 [==============================] - 0s 5ms/step - loss: 0.5135 - accuracy: 0.6985 - val_loss: 0.5725 - val_accuracy: 0.7015\n",
      "Epoch 85/1000\n",
      "14/14 [==============================] - 0s 4ms/step - loss: 0.4961 - accuracy: 0.7426 - val_loss: 0.5663 - val_accuracy: 0.7612\n",
      "Epoch 86/1000\n",
      "14/14 [==============================] - 0s 4ms/step - loss: 0.4824 - accuracy: 0.7721 - val_loss: 0.5889 - val_accuracy: 0.7463\n",
      "Epoch 87/1000\n",
      "14/14 [==============================] - 0s 5ms/step - loss: 0.4925 - accuracy: 0.7132 - val_loss: 0.6079 - val_accuracy: 0.6716\n",
      "Epoch 88/1000\n",
      "14/14 [==============================] - 0s 5ms/step - loss: 0.4957 - accuracy: 0.8015 - val_loss: 0.5849 - val_accuracy: 0.8060\n",
      "Epoch 89/1000\n",
      "14/14 [==============================] - 0s 5ms/step - loss: 0.4894 - accuracy: 0.7721 - val_loss: 0.5652 - val_accuracy: 0.7015\n",
      "Epoch 90/1000\n",
      "14/14 [==============================] - 0s 4ms/step - loss: 0.4884 - accuracy: 0.7353 - val_loss: 0.5694 - val_accuracy: 0.7313\n",
      "Epoch 91/1000\n",
      "14/14 [==============================] - 0s 5ms/step - loss: 0.4800 - accuracy: 0.7500 - val_loss: 0.5840 - val_accuracy: 0.7612\n",
      "Epoch 92/1000\n",
      "14/14 [==============================] - 0s 4ms/step - loss: 0.4813 - accuracy: 0.8015 - val_loss: 0.5336 - val_accuracy: 0.7910\n",
      "Epoch 93/1000\n",
      "14/14 [==============================] - 0s 5ms/step - loss: 0.4780 - accuracy: 0.7279 - val_loss: 0.5665 - val_accuracy: 0.7164\n",
      "Epoch 94/1000\n",
      "14/14 [==============================] - 0s 4ms/step - loss: 0.4749 - accuracy: 0.7868 - val_loss: 0.5940 - val_accuracy: 0.7910\n",
      "Epoch 95/1000\n",
      "14/14 [==============================] - 0s 5ms/step - loss: 0.4792 - accuracy: 0.7500 - val_loss: 0.5733 - val_accuracy: 0.8060\n",
      "Epoch 96/1000\n",
      "14/14 [==============================] - 0s 4ms/step - loss: 0.4782 - accuracy: 0.7500 - val_loss: 0.5567 - val_accuracy: 0.7612\n",
      "Epoch 97/1000\n",
      "14/14 [==============================] - 0s 4ms/step - loss: 0.4691 - accuracy: 0.7647 - val_loss: 0.5770 - val_accuracy: 0.7463\n",
      "Epoch 98/1000\n",
      "14/14 [==============================] - 0s 5ms/step - loss: 0.4712 - accuracy: 0.7353 - val_loss: 0.5817 - val_accuracy: 0.7761\n",
      "Epoch 99/1000\n",
      "14/14 [==============================] - 0s 5ms/step - loss: 0.4689 - accuracy: 0.7353 - val_loss: 0.5723 - val_accuracy: 0.8060\n",
      "Epoch 100/1000\n",
      "14/14 [==============================] - 0s 5ms/step - loss: 0.4936 - accuracy: 0.7353 - val_loss: 0.5724 - val_accuracy: 0.8209\n",
      "Epoch 101/1000\n",
      "14/14 [==============================] - 0s 5ms/step - loss: 0.4659 - accuracy: 0.7279 - val_loss: 0.5384 - val_accuracy: 0.7910\n",
      "Epoch 102/1000\n",
      "14/14 [==============================] - 0s 5ms/step - loss: 0.4704 - accuracy: 0.7574 - val_loss: 0.5778 - val_accuracy: 0.7015\n",
      "Epoch 103/1000\n",
      "14/14 [==============================] - 0s 5ms/step - loss: 0.4667 - accuracy: 0.7574 - val_loss: 0.5826 - val_accuracy: 0.8060\n",
      "Epoch 104/1000\n",
      "14/14 [==============================] - 0s 4ms/step - loss: 0.4629 - accuracy: 0.7574 - val_loss: 0.5308 - val_accuracy: 0.7612\n",
      "Epoch 105/1000\n",
      "14/14 [==============================] - 0s 5ms/step - loss: 0.4606 - accuracy: 0.7500 - val_loss: 0.5602 - val_accuracy: 0.7164\n",
      "Epoch 106/1000\n",
      "14/14 [==============================] - 0s 5ms/step - loss: 0.4847 - accuracy: 0.7647 - val_loss: 0.5862 - val_accuracy: 0.8060\n",
      "Epoch 107/1000\n",
      "14/14 [==============================] - 0s 4ms/step - loss: 0.4538 - accuracy: 0.7721 - val_loss: 0.5628 - val_accuracy: 0.6866\n",
      "Epoch 108/1000\n",
      "14/14 [==============================] - 0s 5ms/step - loss: 0.4680 - accuracy: 0.7647 - val_loss: 0.5832 - val_accuracy: 0.7910\n",
      "Epoch 109/1000\n",
      "14/14 [==============================] - 0s 4ms/step - loss: 0.4638 - accuracy: 0.7647 - val_loss: 0.5863 - val_accuracy: 0.7910\n",
      "Epoch 110/1000\n",
      "14/14 [==============================] - 0s 4ms/step - loss: 0.4774 - accuracy: 0.7206 - val_loss: 0.5838 - val_accuracy: 0.6866\n",
      "Epoch 111/1000\n",
      "14/14 [==============================] - 0s 4ms/step - loss: 0.4526 - accuracy: 0.7941 - val_loss: 0.5380 - val_accuracy: 0.7910\n",
      "Epoch 112/1000\n",
      "14/14 [==============================] - 0s 5ms/step - loss: 0.4451 - accuracy: 0.7500 - val_loss: 0.5517 - val_accuracy: 0.7164\n",
      "Epoch 113/1000\n",
      "14/14 [==============================] - 0s 4ms/step - loss: 0.4513 - accuracy: 0.7794 - val_loss: 0.5686 - val_accuracy: 0.8060\n",
      "Epoch 114/1000\n",
      "14/14 [==============================] - 0s 5ms/step - loss: 0.4442 - accuracy: 0.7721 - val_loss: 0.5443 - val_accuracy: 0.7463\n",
      "Epoch 115/1000\n",
      "14/14 [==============================] - 0s 6ms/step - loss: 0.4749 - accuracy: 0.7647 - val_loss: 0.5730 - val_accuracy: 0.6716\n",
      "Epoch 116/1000\n",
      "14/14 [==============================] - 0s 4ms/step - loss: 0.4682 - accuracy: 0.7574 - val_loss: 0.5821 - val_accuracy: 0.8060\n",
      "Epoch 117/1000\n",
      "14/14 [==============================] - 0s 5ms/step - loss: 0.4504 - accuracy: 0.7647 - val_loss: 0.5639 - val_accuracy: 0.8060\n",
      "Epoch 118/1000\n",
      "14/14 [==============================] - 0s 5ms/step - loss: 0.4448 - accuracy: 0.7794 - val_loss: 0.5825 - val_accuracy: 0.6866\n",
      "Epoch 119/1000\n",
      "14/14 [==============================] - 0s 5ms/step - loss: 0.4502 - accuracy: 0.7500 - val_loss: 0.5687 - val_accuracy: 0.8060\n",
      "Epoch 120/1000\n",
      "14/14 [==============================] - 0s 4ms/step - loss: 0.4360 - accuracy: 0.7721 - val_loss: 0.5653 - val_accuracy: 0.8060\n",
      "Epoch 121/1000\n",
      "14/14 [==============================] - 0s 5ms/step - loss: 0.4382 - accuracy: 0.7574 - val_loss: 0.5698 - val_accuracy: 0.8060\n",
      "Epoch 122/1000\n",
      "14/14 [==============================] - 0s 5ms/step - loss: 0.4386 - accuracy: 0.7500 - val_loss: 0.5656 - val_accuracy: 0.7910\n",
      "Epoch 123/1000\n",
      "14/14 [==============================] - 0s 5ms/step - loss: 0.4387 - accuracy: 0.7941 - val_loss: 0.5520 - val_accuracy: 0.7015\n",
      "Epoch 124/1000\n",
      "14/14 [==============================] - 0s 4ms/step - loss: 0.4249 - accuracy: 0.7647 - val_loss: 0.5589 - val_accuracy: 0.8060\n",
      "Epoch 124: early stopping\n"
     ]
    }
   ],
   "source": [
    "model_history=classifier.fit(X_train,y_train,validation_split=0.33,batch_size=10,epochs=1000,callbacks=early_stopping)\n",
    "     "
   ]
  },
  {
   "cell_type": "code",
   "execution_count": 26,
   "id": "651031bd",
   "metadata": {
    "execution": {
     "iopub.execute_input": "2023-04-23T18:11:58.644774Z",
     "iopub.status.busy": "2023-04-23T18:11:58.643436Z",
     "iopub.status.idle": "2023-04-23T18:12:00.300184Z",
     "shell.execute_reply": "2023-04-23T18:12:00.298994Z"
    },
    "papermill": {
     "duration": 1.691137,
     "end_time": "2023-04-23T18:12:00.302949",
     "exception": false,
     "start_time": "2023-04-23T18:11:58.611812",
     "status": "completed"
    },
    "tags": []
   },
   "outputs": [
    {
     "name": "stdout",
     "output_type": "stream",
     "text": [
      "4/4 [==============================] - 0s 1ms/step\n"
     ]
    }
   ],
   "source": [
    "y_pred = classifier.predict(X_test)\n",
    "y_pred = (y_pred > 0.5)"
   ]
  },
  {
   "cell_type": "code",
   "execution_count": 27,
   "id": "36b4d2ed",
   "metadata": {
    "execution": {
     "iopub.execute_input": "2023-04-23T18:12:00.366507Z",
     "iopub.status.busy": "2023-04-23T18:12:00.366160Z",
     "iopub.status.idle": "2023-04-23T18:12:00.373606Z",
     "shell.execute_reply": "2023-04-23T18:12:00.372386Z"
    },
    "papermill": {
     "duration": 0.041465,
     "end_time": "2023-04-23T18:12:00.375743",
     "exception": false,
     "start_time": "2023-04-23T18:12:00.334278",
     "status": "completed"
    },
    "tags": []
   },
   "outputs": [
    {
     "data": {
      "text/plain": [
       "77.0"
      ]
     },
     "execution_count": 27,
     "metadata": {},
     "output_type": "execute_result"
    }
   ],
   "source": [
    "# Calculate the Accuracy\n",
    "from sklearn.metrics import accuracy_score\n",
    "score=accuracy_score(y_pred,y_test)\n",
    "score*100"
   ]
  }
 ],
 "metadata": {
  "kernelspec": {
   "display_name": "Python 3",
   "language": "python",
   "name": "python3"
  },
  "language_info": {
   "codemirror_mode": {
    "name": "ipython",
    "version": 3
   },
   "file_extension": ".py",
   "mimetype": "text/x-python",
   "name": "python",
   "nbconvert_exporter": "python",
   "pygments_lexer": "ipython3",
   "version": "3.7.12"
  },
  "papermill": {
   "default_parameters": {},
   "duration": 38.52107,
   "end_time": "2023-04-23T18:12:03.374799",
   "environment_variables": {},
   "exception": null,
   "input_path": "__notebook__.ipynb",
   "output_path": "__notebook__.ipynb",
   "parameters": {},
   "start_time": "2023-04-23T18:11:24.853729",
   "version": "2.4.0"
  }
 },
 "nbformat": 4,
 "nbformat_minor": 5
}
